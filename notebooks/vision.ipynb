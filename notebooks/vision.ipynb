{
 "cells": [
  {
   "cell_type": "code",
   "execution_count": null,
   "metadata": {},
   "outputs": [],
   "source": [
    "import os\n",
    "import json\n",
    "import requests\n",
    "import numpy as np\n",
    "from io import BytesIO\n",
    "from IPython.display import display\n",
    "from PIL import Image, ImageDraw, ImageFont\n",
    "\n",
    "from keys import get_keys\n",
    "from helpers import draw_faces\n",
    "\n",
    "keys = get_keys()"
   ]
  },
  {
   "cell_type": "markdown",
   "metadata": {},
   "source": [
    "# Vision"
   ]
  },
  {
   "cell_type": "code",
   "execution_count": null,
   "metadata": {},
   "outputs": [],
   "source": [
    "url = 'https://westus.api.cognitive.microsoft.com/vision/v1.0/analyze'\n",
    "headers = {\n",
    "    'Content-Type': 'application/octet-stream',\n",
    "    'Ocp-Apim-Subscription-Key': keys['vision'],\n",
    "}\n",
    "\n",
    "params = {\n",
    "    'visualFeatures': 'ImageType,Faces,Adult,Categories,Color,Tags,Description',\n",
    "    'details': 'Celebrities,Landmarks',\n",
    "    'language': 'en'\n",
    "}\n",
    "\n",
    "image = 'shum.jpg'\n",
    "img = Image.open(image)\n",
    "display(img)"
   ]
  },
  {
   "cell_type": "code",
   "execution_count": null,
   "metadata": {},
   "outputs": [],
   "source": [
    "with open(image, 'rb') as f:\n",
    "    r = requests.post(url, headers=headers, params=params, data=f)\n",
    "\n",
    "response = r.json()\n",
    "j = json.dumps(response, indent=2, sort_keys=True)\n",
    "print(j)"
   ]
  },
  {
   "cell_type": "code",
   "execution_count": null,
   "metadata": {},
   "outputs": [],
   "source": [
    "im = draw_faces(img, response['faces'], response['description']['captions'][0]['text'])\n",
    "display(im)"
   ]
  },
  {
   "cell_type": "code",
   "execution_count": null,
   "metadata": {},
   "outputs": [],
   "source": []
  }
 ],
 "metadata": {
  "kernelspec": {
   "display_name": "Python 3",
   "language": "python",
   "name": "python3"
  },
  "language_info": {
   "codemirror_mode": {
    "name": "ipython",
    "version": 3
   },
   "file_extension": ".py",
   "mimetype": "text/x-python",
   "name": "python",
   "nbconvert_exporter": "python",
   "pygments_lexer": "ipython3",
   "version": "3.6.5"
  }
 },
 "nbformat": 4,
 "nbformat_minor": 2
}
