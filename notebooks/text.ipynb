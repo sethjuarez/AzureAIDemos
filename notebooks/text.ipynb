{
 "cells": [
  {
   "cell_type": "code",
   "execution_count": null,
   "metadata": {},
   "outputs": [],
   "source": [
    "import os\n",
    "import json\n",
    "import requests\n",
    "\n",
    "from keys import get_keys, get_endpoints\n",
    "\n",
    "keys = get_keys()\n",
    "endpoints = get_endpoints()\n",
    "print(endpoints.keys())"
   ]
  },
  {
   "cell_type": "markdown",
   "metadata": {},
   "source": [
    "# Text Analytics"
   ]
  },
  {
   "cell_type": "code",
   "execution_count": null,
   "metadata": {},
   "outputs": [],
   "source": [
    "headers = {\n",
    "    'Ocp-Apim-Subscription-Key': keys['text'],\n",
    "}\n",
    "\n",
    "documents = { 'documents' : [\n",
    "  {'id': '1', 'language': 'en', 'text': 'I had a wonderful experience! The tuna tartare was divine!'},\n",
    "  {'id': '2', 'language': 'en', 'text': 'I had a terrible time at the hotel. The staff was rude and the food was awful.'},\n",
    "  {'id': '3', 'language': 'es', 'text': 'La verdad es que no me gusta mucho la psicina. Tod estaaba muy sucio.'}\n",
    "]}"
   ]
  },
  {
   "cell_type": "code",
   "execution_count": null,
   "metadata": {},
   "outputs": [],
   "source": [
    "response  = requests.post(endpoints['keyphrases'], headers=headers, json=documents)\n",
    "o = json.dumps(response.json(), indent=2, sort_keys=True)\n",
    "print(o)"
   ]
  },
  {
   "cell_type": "code",
   "execution_count": null,
   "metadata": {},
   "outputs": [],
   "source": []
  }
 ],
 "metadata": {
  "kernelspec": {
   "display_name": "Python 3",
   "language": "python",
   "name": "python3"
  },
  "language_info": {
   "codemirror_mode": {
    "name": "ipython",
    "version": 3
   },
   "file_extension": ".py",
   "mimetype": "text/x-python",
   "name": "python",
   "nbconvert_exporter": "python",
   "pygments_lexer": "ipython3",
   "version": "3.6.5"
  }
 },
 "nbformat": 4,
 "nbformat_minor": 2
}
